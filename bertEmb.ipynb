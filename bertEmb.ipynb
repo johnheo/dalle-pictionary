{
 "cells": [
  {
   "cell_type": "code",
   "execution_count": 14,
   "metadata": {},
   "outputs": [],
   "source": [
    "# imports\n",
    "import torch\n",
    "from typing import List\n",
    "import requests\n",
    "from retry import retry\n",
    "\n",
    "import config"
   ]
  },
  {
   "cell_type": "code",
   "execution_count": 15,
   "metadata": {},
   "outputs": [],
   "source": [
    "# config embedding API\n",
    "EMBEDDING_MODEL = \"sentence-transformers/all-MiniLM-L6-v2\"\n",
    "hf_token = config.hf_key # your Hugging Face API key\n",
    "\n",
    "api_url = f\"https://api-inference.huggingface.co/pipeline/feature-extraction/{EMBEDDING_MODEL}\"\n",
    "headers = {\"Authorization\": f\"Bearer {hf_token}\"}"
   ]
  },
  {
   "cell_type": "code",
   "execution_count": 96,
   "metadata": {},
   "outputs": [],
   "source": [
    "@retry(tries=3, delay=10)\n",
    "def query(texts: List[str]):\n",
    "    response = requests.post(api_url, headers=headers, json={\"inputs\": texts})\n",
    "    result = response.json()\n",
    "    if isinstance(result, list):\n",
    "      return result\n",
    "    elif list(result.keys())[0] == \"error\":\n",
    "      raise RuntimeError(\n",
    "          \"The model is currently loading, please re-run the query.\"\n",
    "          )\n",
    "\n",
    "def get_ranks(texts: str):\n",
    "  '''\n",
    "      Get ranks of texts based on similarity to first text in list.\n",
    "  '''\n",
    "  # get embeddings\n",
    "  out = torch.as_tensor(query(texts)) # list => tensor\n",
    "  nExamples, channels = out.shape\n",
    "  print(f\"computed {nExamples} embeddings with {channels} channels each\")\n",
    "\n",
    "  # similarity function\n",
    "  cos = torch.nn.CosineSimilarity(dim=0, eps=1e-6)\n",
    "\n",
    "  # compute embeddings\n",
    "  res = {}\n",
    "  for idx, (text, emb) in enumerate(zip(texts, output)):\n",
    "      if idx == 0:\n",
    "          # print(f\"target prompt: {text}\")\n",
    "          ans_emb = emb\n",
    "          continue\n",
    "      res[text] = cos(ans_emb, emb).item()\n",
    "\n",
    "  # sort descending by similarity\n",
    "  res = {k: v for k, v in sorted(res.items(), key=lambda item: item[1], reverse=True)}\n",
    "\n",
    "  return res"
   ]
  },
  {
   "cell_type": "code",
   "execution_count": 97,
   "metadata": {},
   "outputs": [
    {
     "name": "stdout",
     "output_type": "stream",
     "text": [
      "computed 4 embeddings with 384 channels each\n"
     ]
    }
   ],
   "source": [
    "prompt = \"A lonely cat staring at the moon\"\n",
    "pred1 = \"A wistful cat looking at the stars\"\n",
    "pred2 = \"A philosophical cat gazing into the universe\"\n",
    "pred3 = \"A lonely cat looking at mars\"\n",
    "\n",
    "texts = [prompt, pred1, pred2, pred3]\n",
    "\n",
    "res = get_ranks(texts)"
   ]
  },
  {
   "cell_type": "code",
   "execution_count": 112,
   "metadata": {},
   "outputs": [
    {
     "name": "stdout",
     "output_type": "stream",
     "text": [
      "     Prompt: A lonely cat staring at the moon\n",
      "\n",
      "     Rank 1:  \"A lonely cat looking at mars\"                      Score: 0.7721485495567322\n",
      "     Rank 2:  \"A wistful cat looking at the stars\"                Score: 0.6814246773719788\n",
      "     Rank 3:  \"A philosophical cat gazing into the universe\"      Score: 0.6462261080741882\n"
     ]
    }
   ],
   "source": [
    "\n",
    "print(f'{\"Prompt\":>11}: {prompt}\\n')\n",
    "for i, (t, s) in enumerate(res.items()):\n",
    "  l = '{:>12}  {:<50}  {:<12}'.format(f\"Rank {i+1}:\", \\\n",
    "                                            f\"\\\"{t}\\\"\", \\\n",
    "                                            f\"Score: {s}\")\n",
    "  print(l)\n"
   ]
  },
  {
   "cell_type": "code",
   "execution_count": null,
   "metadata": {},
   "outputs": [],
   "source": []
  }
 ],
 "metadata": {
  "kernelspec": {
   "display_name": "pytorch-env",
   "language": "python",
   "name": "python3"
  },
  "language_info": {
   "codemirror_mode": {
    "name": "ipython",
    "version": 3
   },
   "file_extension": ".py",
   "mimetype": "text/x-python",
   "name": "python",
   "nbconvert_exporter": "python",
   "pygments_lexer": "ipython3",
   "version": "3.8.12"
  },
  "orig_nbformat": 4,
  "vscode": {
   "interpreter": {
    "hash": "e3aa5580f19c884fdff33885feaea39a351719063efadbd052fb3d939292cc84"
   }
  }
 },
 "nbformat": 4,
 "nbformat_minor": 2
}
